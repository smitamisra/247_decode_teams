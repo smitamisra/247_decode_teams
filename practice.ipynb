{
 "cells": [
  {
   "cell_type": "code",
   "execution_count": 1,
   "metadata": {},
   "outputs": [],
   "source": [
    "import pandas as pd\n",
    "import matplotlib.pyplot as plt"
   ]
  },
  {
   "cell_type": "code",
   "execution_count": 3,
   "metadata": {},
   "outputs": [],
   "source": [
    "from collections import Counter"
   ]
  },
  {
   "cell_type": "code",
   "execution_count": 5,
   "metadata": {},
   "outputs": [],
   "source": [
    "art = pd.read_csv('/Users/smitaupadhyay/Desktop/public_art.csv')"
   ]
  },
  {
   "cell_type": "code",
   "execution_count": 7,
   "metadata": {},
   "outputs": [
    {
     "data": {
      "text/html": [
       "<div>\n",
       "<style scoped>\n",
       "    .dataframe tbody tr th:only-of-type {\n",
       "        vertical-align: middle;\n",
       "    }\n",
       "\n",
       "    .dataframe tbody tr th {\n",
       "        vertical-align: top;\n",
       "    }\n",
       "\n",
       "    .dataframe thead th {\n",
       "        text-align: right;\n",
       "    }\n",
       "</style>\n",
       "<table border=\"1\" class=\"dataframe\">\n",
       "  <thead>\n",
       "    <tr style=\"text-align: right;\">\n",
       "      <th></th>\n",
       "      <th>Title</th>\n",
       "      <th>Last Name</th>\n",
       "      <th>First Name</th>\n",
       "      <th>Location</th>\n",
       "      <th>Medium</th>\n",
       "      <th>Type</th>\n",
       "      <th>Description</th>\n",
       "      <th>Latitude</th>\n",
       "      <th>Longitude</th>\n",
       "      <th>Mapped Location</th>\n",
       "    </tr>\n",
       "  </thead>\n",
       "  <tbody>\n",
       "    <tr>\n",
       "      <th>0</th>\n",
       "      <td>[Cross Country Runners]</td>\n",
       "      <td>Frost</td>\n",
       "      <td>Miley</td>\n",
       "      <td>4001 Harding Rd., Nashville TN</td>\n",
       "      <td>Bronze</td>\n",
       "      <td>Sculpture</td>\n",
       "      <td>NaN</td>\n",
       "      <td>36.12856</td>\n",
       "      <td>-86.83660</td>\n",
       "      <td>(36.12856, -86.8366)</td>\n",
       "    </tr>\n",
       "    <tr>\n",
       "      <th>1</th>\n",
       "      <td>[Fourth and Commerce Sculpture]</td>\n",
       "      <td>Walker</td>\n",
       "      <td>Lin</td>\n",
       "      <td>333 Commerce Street, Nashville TN</td>\n",
       "      <td>NaN</td>\n",
       "      <td>Sculpture</td>\n",
       "      <td>NaN</td>\n",
       "      <td>36.16234</td>\n",
       "      <td>-86.77774</td>\n",
       "      <td>(36.16234, -86.77774)</td>\n",
       "    </tr>\n",
       "    <tr>\n",
       "      <th>2</th>\n",
       "      <td>12th &amp; Porter Mural</td>\n",
       "      <td>Kennedy</td>\n",
       "      <td>Kim</td>\n",
       "      <td>114 12th Avenue N</td>\n",
       "      <td>Porter all-weather outdoor paint</td>\n",
       "      <td>Mural</td>\n",
       "      <td>Kim Kennedy is a musician and visual artist wh...</td>\n",
       "      <td>36.15790</td>\n",
       "      <td>-86.78817</td>\n",
       "      <td>(36.1579, -86.78817)</td>\n",
       "    </tr>\n",
       "    <tr>\n",
       "      <th>3</th>\n",
       "      <td>A Splash of Color</td>\n",
       "      <td>Stevenson and Stanley and ROFF (Harroff)</td>\n",
       "      <td>Doug and Ronnica and Lynn</td>\n",
       "      <td>616 17th Ave. N.</td>\n",
       "      <td>Steel, brick, wood, and fabric on frostproof c...</td>\n",
       "      <td>Mural</td>\n",
       "      <td>Painted wooden hoop dancer on a twenty foot po...</td>\n",
       "      <td>36.16202</td>\n",
       "      <td>-86.79975</td>\n",
       "      <td>(36.16202, -86.79975)</td>\n",
       "    </tr>\n",
       "    <tr>\n",
       "      <th>4</th>\n",
       "      <td>A Story of Nashville</td>\n",
       "      <td>Ridley</td>\n",
       "      <td>Greg</td>\n",
       "      <td>615 Church Street, Nashville TN</td>\n",
       "      <td>Hammered copper repousse</td>\n",
       "      <td>Frieze</td>\n",
       "      <td>Inside the Grand Reading Room, this is a serie...</td>\n",
       "      <td>36.16215</td>\n",
       "      <td>-86.78205</td>\n",
       "      <td>(36.16215, -86.78205)</td>\n",
       "    </tr>\n",
       "  </tbody>\n",
       "</table>\n",
       "</div>"
      ],
      "text/plain": [
       "                             Title                                 Last Name  \\\n",
       "0          [Cross Country Runners]                                     Frost   \n",
       "1  [Fourth and Commerce Sculpture]                                    Walker   \n",
       "2              12th & Porter Mural                                   Kennedy   \n",
       "3                A Splash of Color  Stevenson and Stanley and ROFF (Harroff)   \n",
       "4             A Story of Nashville                                    Ridley   \n",
       "\n",
       "                  First Name                           Location  \\\n",
       "0                      Miley     4001 Harding Rd., Nashville TN   \n",
       "1                        Lin  333 Commerce Street, Nashville TN   \n",
       "2                        Kim                  114 12th Avenue N   \n",
       "3  Doug and Ronnica and Lynn                   616 17th Ave. N.   \n",
       "4                       Greg    615 Church Street, Nashville TN   \n",
       "\n",
       "                                              Medium       Type  \\\n",
       "0                                             Bronze  Sculpture   \n",
       "1                                                NaN  Sculpture   \n",
       "2                   Porter all-weather outdoor paint      Mural   \n",
       "3  Steel, brick, wood, and fabric on frostproof c...      Mural   \n",
       "4                           Hammered copper repousse     Frieze   \n",
       "\n",
       "                                         Description  Latitude  Longitude  \\\n",
       "0                                                NaN  36.12856  -86.83660   \n",
       "1                                                NaN  36.16234  -86.77774   \n",
       "2  Kim Kennedy is a musician and visual artist wh...  36.15790  -86.78817   \n",
       "3  Painted wooden hoop dancer on a twenty foot po...  36.16202  -86.79975   \n",
       "4  Inside the Grand Reading Room, this is a serie...  36.16215  -86.78205   \n",
       "\n",
       "         Mapped Location  \n",
       "0   (36.12856, -86.8366)  \n",
       "1  (36.16234, -86.77774)  \n",
       "2   (36.1579, -86.78817)  \n",
       "3  (36.16202, -86.79975)  \n",
       "4  (36.16215, -86.78205)  "
      ]
     },
     "execution_count": 7,
     "metadata": {},
     "output_type": "execute_result"
    }
   ],
   "source": [
    "art.head()"
   ]
  },
  {
   "cell_type": "code",
   "execution_count": 36,
   "metadata": {},
   "outputs": [
    {
     "name": "stdout",
     "output_type": "stream",
     "text": [
      "132\n",
      "10\n"
     ]
    }
   ],
   "source": [
    "#how many row are in df-art\n",
    "print(art.shape[0])\n",
    "\n",
    "#how many col are in df art\n",
    "print(art.shape[1])"
   ]
  },
  {
   "cell_type": "code",
   "execution_count": 37,
   "metadata": {},
   "outputs": [
    {
     "data": {
      "text/plain": [
       "pandas.core.frame.DataFrame"
      ]
     },
     "execution_count": 37,
     "metadata": {},
     "output_type": "execute_result"
    }
   ],
   "source": [
    "type(art)"
   ]
  },
  {
   "cell_type": "code",
   "execution_count": 18,
   "metadata": {},
   "outputs": [
    {
     "name": "stdout",
     "output_type": "stream",
     "text": [
      "types is  <class 'pandas.core.series.Series'>\n",
      "types2 is <class 'pandas.core.series.Series'>\n"
     ]
    }
   ],
   "source": [
    "types = art.Type\n",
    "types2 = art['Type']\n",
    "print('types is ', type(types))\n",
    "print('types2 is', type(types2))"
   ]
  },
  {
   "cell_type": "code",
   "execution_count": 11,
   "metadata": {},
   "outputs": [],
   "source": [
    "# to find the count of each entry in col in df\n",
    "art_type_counts = Counter(art.Type)"
   ]
  },
  {
   "cell_type": "code",
   "execution_count": 12,
   "metadata": {},
   "outputs": [
    {
     "data": {
      "text/plain": [
       "Counter({'Bronzes': 1,\n",
       "         'Fountain': 1,\n",
       "         'Frieze': 2,\n",
       "         'Furniture': 1,\n",
       "         'Mobile': 2,\n",
       "         'Monument': 16,\n",
       "         'Mosaic': 2,\n",
       "         'Multipart': 1,\n",
       "         'Mural': 38,\n",
       "         'Relief': 1,\n",
       "         'Sculpture': 61,\n",
       "         'Sculpture/Fountain': 1,\n",
       "         'Stained Glass': 1,\n",
       "         'Street Art': 1,\n",
       "         'Various': 2,\n",
       "         'mural': 1})"
      ]
     },
     "execution_count": 12,
     "metadata": {},
     "output_type": "execute_result"
    }
   ],
   "source": [
    "art_type_counts"
   ]
  },
  {
   "cell_type": "code",
   "execution_count": 19,
   "metadata": {},
   "outputs": [],
   "source": [
    "mat1 = art.Medium\n",
    "mat2 = art.Medium\n",
    "mat3 = art.Medium"
   ]
  },
  {
   "cell_type": "code",
   "execution_count": 25,
   "metadata": {},
   "outputs": [
    {
     "data": {
      "text/plain": [
       "(132,)"
      ]
     },
     "execution_count": 25,
     "metadata": {},
     "output_type": "execute_result"
    }
   ],
   "source": [
    "#print(mat1)\n",
    "mat1.shape #how many rows"
   ]
  },
  {
   "cell_type": "code",
   "execution_count": 22,
   "metadata": {},
   "outputs": [
    {
     "data": {
      "text/plain": [
       "pandas.core.series.Series"
      ]
     },
     "execution_count": 22,
     "metadata": {},
     "output_type": "execute_result"
    }
   ],
   "source": [
    "type(mat1)"
   ]
  },
  {
   "cell_type": "code",
   "execution_count": 26,
   "metadata": {},
   "outputs": [
    {
     "data": {
      "text/html": [
       "<div>\n",
       "<style scoped>\n",
       "    .dataframe tbody tr th:only-of-type {\n",
       "        vertical-align: middle;\n",
       "    }\n",
       "\n",
       "    .dataframe tbody tr th {\n",
       "        vertical-align: top;\n",
       "    }\n",
       "\n",
       "    .dataframe thead th {\n",
       "        text-align: right;\n",
       "    }\n",
       "</style>\n",
       "<table border=\"1\" class=\"dataframe\">\n",
       "  <thead>\n",
       "    <tr style=\"text-align: right;\">\n",
       "      <th></th>\n",
       "      <th>Medium</th>\n",
       "      <th>Medium</th>\n",
       "      <th>Medium</th>\n",
       "    </tr>\n",
       "  </thead>\n",
       "  <tbody>\n",
       "    <tr>\n",
       "      <th>0</th>\n",
       "      <td>Bronze</td>\n",
       "      <td>Bronze</td>\n",
       "      <td>Bronze</td>\n",
       "    </tr>\n",
       "    <tr>\n",
       "      <th>1</th>\n",
       "      <td>NaN</td>\n",
       "      <td>NaN</td>\n",
       "      <td>NaN</td>\n",
       "    </tr>\n",
       "    <tr>\n",
       "      <th>2</th>\n",
       "      <td>Porter all-weather outdoor paint</td>\n",
       "      <td>Porter all-weather outdoor paint</td>\n",
       "      <td>Porter all-weather outdoor paint</td>\n",
       "    </tr>\n",
       "  </tbody>\n",
       "</table>\n",
       "</div>"
      ],
      "text/plain": [
       "                             Medium                            Medium  \\\n",
       "0                            Bronze                            Bronze   \n",
       "1                               NaN                               NaN   \n",
       "2  Porter all-weather outdoor paint  Porter all-weather outdoor paint   \n",
       "\n",
       "                             Medium  \n",
       "0                            Bronze  \n",
       "1                               NaN  \n",
       "2  Porter all-weather outdoor paint  "
      ]
     },
     "execution_count": 26,
     "metadata": {},
     "output_type": "execute_result"
    }
   ],
   "source": [
    "#axis=1 -indicates combinig the \"Series \"as columns\n",
    "col_df = pd.concat([mat1, mat2, mat3], axis =1 )\n",
    "col_df.head(3)"
   ]
  },
  {
   "cell_type": "code",
   "execution_count": 29,
   "metadata": {},
   "outputs": [
    {
     "data": {
      "text/plain": [
       "0                              Bronze\n",
       "1                                 NaN\n",
       "2    Porter all-weather outdoor paint\n",
       "Name: Medium, dtype: object"
      ]
     },
     "execution_count": 29,
     "metadata": {},
     "output_type": "execute_result"
    }
   ],
   "source": [
    "row_df = pd.concat([mat1, mat2, mat3], axis = 0 )\n",
    "row_df.head(3)"
   ]
  },
  {
   "cell_type": "code",
   "execution_count": 33,
   "metadata": {},
   "outputs": [
    {
     "data": {
      "text/plain": [
       "(396,)"
      ]
     },
     "execution_count": 33,
     "metadata": {},
     "output_type": "execute_result"
    }
   ],
   "source": [
    "row_df.shape"
   ]
  },
  {
   "cell_type": "code",
   "execution_count": 34,
   "metadata": {},
   "outputs": [
    {
     "data": {
      "text/plain": [
       "(132, 3)"
      ]
     },
     "execution_count": 34,
     "metadata": {},
     "output_type": "execute_result"
    }
   ],
   "source": [
    "col_df.shape"
   ]
  },
  {
   "cell_type": "code",
   "execution_count": 44,
   "metadata": {},
   "outputs": [
    {
     "data": {
      "text/plain": [
       "pandas.core.series.Series"
      ]
     },
     "execution_count": 44,
     "metadata": {},
     "output_type": "execute_result"
    }
   ],
   "source": [
    "type(art.Medium.value_counts())"
   ]
  },
  {
   "cell_type": "code",
   "execution_count": 45,
   "metadata": {},
   "outputs": [],
   "source": [
    "#how many values of each type\n",
    "using_counter = Counter(art.Medium)"
   ]
  },
  {
   "cell_type": "code",
   "execution_count": 46,
   "metadata": {},
   "outputs": [
    {
     "data": {
      "text/plain": [
       "collections.Counter"
      ]
     },
     "execution_count": 46,
     "metadata": {},
     "output_type": "execute_result"
    }
   ],
   "source": [
    "type(using_counter)"
   ]
  },
  {
   "cell_type": "code",
   "execution_count": 52,
   "metadata": {},
   "outputs": [
    {
     "data": {
      "text/plain": [
       "[('Bronze', 12),\n",
       " ('Stone', 5),\n",
       " (nan, 4),\n",
       " ('Latex paint and spray paint', 4),\n",
       " ('Spray Paint', 3)]"
      ]
     },
     "execution_count": 52,
     "metadata": {},
     "output_type": "execute_result"
    }
   ],
   "source": [
    "#using the most common () function -what are the TOP 5 most common value?\n",
    "#output is a list of tuples\n",
    "top_5 = using_counter.most_common(5)\n",
    "top_5"
   ]
  },
  {
   "cell_type": "code",
   "execution_count": 53,
   "metadata": {},
   "outputs": [
    {
     "data": {
      "text/plain": [
       "list"
      ]
     },
     "execution_count": 53,
     "metadata": {},
     "output_type": "execute_result"
    }
   ],
   "source": [
    "type(top_5)"
   ]
  },
  {
   "cell_type": "code",
   "execution_count": 54,
   "metadata": {},
   "outputs": [
    {
     "data": {
      "text/html": [
       "<div>\n",
       "<style scoped>\n",
       "    .dataframe tbody tr th:only-of-type {\n",
       "        vertical-align: middle;\n",
       "    }\n",
       "\n",
       "    .dataframe tbody tr th {\n",
       "        vertical-align: top;\n",
       "    }\n",
       "\n",
       "    .dataframe thead th {\n",
       "        text-align: right;\n",
       "    }\n",
       "</style>\n",
       "<table border=\"1\" class=\"dataframe\">\n",
       "  <thead>\n",
       "    <tr style=\"text-align: right;\">\n",
       "      <th></th>\n",
       "      <th>0</th>\n",
       "      <th>1</th>\n",
       "    </tr>\n",
       "  </thead>\n",
       "  <tbody>\n",
       "    <tr>\n",
       "      <th>0</th>\n",
       "      <td>Bronze</td>\n",
       "      <td>12</td>\n",
       "    </tr>\n",
       "    <tr>\n",
       "      <th>1</th>\n",
       "      <td>Stone</td>\n",
       "      <td>5</td>\n",
       "    </tr>\n",
       "    <tr>\n",
       "      <th>2</th>\n",
       "      <td>NaN</td>\n",
       "      <td>4</td>\n",
       "    </tr>\n",
       "    <tr>\n",
       "      <th>3</th>\n",
       "      <td>Latex paint and spray paint</td>\n",
       "      <td>4</td>\n",
       "    </tr>\n",
       "    <tr>\n",
       "      <th>4</th>\n",
       "      <td>Spray Paint</td>\n",
       "      <td>3</td>\n",
       "    </tr>\n",
       "  </tbody>\n",
       "</table>\n",
       "</div>"
      ],
      "text/plain": [
       "                             0   1\n",
       "0                       Bronze  12\n",
       "1                        Stone   5\n",
       "2                          NaN   4\n",
       "3  Latex paint and spray paint   4\n",
       "4                  Spray Paint   3"
      ]
     },
     "execution_count": 54,
     "metadata": {},
     "output_type": "execute_result"
    }
   ],
   "source": [
    "#converting the top 5 to df // changing list of tuples to df\n",
    "pd.DataFrame(top_5)\n"
   ]
  },
  {
   "cell_type": "code",
   "execution_count": 50,
   "metadata": {},
   "outputs": [
    {
     "data": {
      "text/plain": [
       "{'83 Stained glass medallions': 1,\n",
       " 'Acrylic Paint': 1,\n",
       " 'Acrylic on Brick': 1,\n",
       " 'Acrylic on Brick; acrylic on metal wall panels': 1,\n",
       " 'Acrylic on Drywall': 1,\n",
       " 'Acrylic on canvas': 1,\n",
       " 'Airframe aluminum and metal foil': 1,\n",
       " 'Aluminum': 1,\n",
       " 'Aluminum panels': 1,\n",
       " 'Barre granite': 1,\n",
       " 'Bas-relief on granite': 1,\n",
       " 'Bronze': 12,\n",
       " 'Bronze mounted on grass': 1,\n",
       " 'Bronze on Carrera marble base': 1,\n",
       " 'Bronze on a granite base': 1,\n",
       " 'Bronze on a limestone and granite base': 1,\n",
       " 'Bronze on a limestone base': 1,\n",
       " 'Bronze on a stone base': 1,\n",
       " 'Bronze sculpture': 3,\n",
       " 'Bronze sculpture as centerpiece of fountain': 1,\n",
       " 'Bronze sculpture on a pedestal of concrete': 1,\n",
       " 'Bronze sculpture on bronze base with black granite wall in back The back wall has bronze relief': 1,\n",
       " 'Bronze sculpture with brick base': 1,\n",
       " 'Bronze sculpture with patina on a Tennessee marble base': 1,\n",
       " 'Bronze stool and guitar on a granite plynth': 1,\n",
       " 'Bronze with a green patina on a granite base': 1,\n",
       " 'Bronze with brown patina on granite base': 1,\n",
       " 'Bronze with green patina on green Swedish granite': 1,\n",
       " 'Cast Iron': 1,\n",
       " 'Cast bronze': 1,\n",
       " 'Ceramic tile set in concrete reinforced with steel rods and wire mesh': 1,\n",
       " 'Cold cast bronze': 1,\n",
       " 'Cold cast processed glass': 1,\n",
       " 'Concrete': 1,\n",
       " 'Concrete or white marble on a concrete base': 1,\n",
       " 'Copper on marble slab base': 1,\n",
       " 'Cortin Steel': 1,\n",
       " 'Fiberglass and Paint': 1,\n",
       " 'Fiberglass resin and stainless steel': 1,\n",
       " 'Found metal objects': 1,\n",
       " 'Granite globe floating on 1/8 inch of water': 1,\n",
       " 'Gypsum cement reinforced with fiberglass over metal armature, marble base, gold leaf (23.75 karat), paint': 1,\n",
       " 'Hammered copper repousse': 1,\n",
       " 'Hollow bronze on a marble base': 2,\n",
       " 'Hollow metal': 1,\n",
       " 'Houge and Meek and Sweenson': 1,\n",
       " 'House paint on brick': 1,\n",
       " 'House paint on metal': 1,\n",
       " 'House paint on vinyl': 1,\n",
       " 'House paint on wood': 1,\n",
       " 'Indiana limestone': 1,\n",
       " 'Kinney and Scholz': 3,\n",
       " 'Latex Paint': 3,\n",
       " 'Latex house paint on wood fence': 1,\n",
       " 'Latex paint': 1,\n",
       " 'Latex paint and spray paint': 4,\n",
       " 'Light interference and transformation panels': 1,\n",
       " 'Limestone': 1,\n",
       " 'Marble': 1,\n",
       " 'Marble on barre granite': 1,\n",
       " 'Metallic paint on metal/found object': 1,\n",
       " 'Mixed Media - wood and paint': 1,\n",
       " 'Mixed Media Use of heavy guage aluminum wire and the two figures are dressed in hand-tailored clothes': 1,\n",
       " 'Mosaic mural': 1,\n",
       " 'Oil on Canvas': 1,\n",
       " 'Paint': 1,\n",
       " 'Paint on cement retaining wall': 1,\n",
       " 'Painted metal': 1,\n",
       " 'Painted sheet metal; base - concrete, wooden railroad ties, and gravel': 1,\n",
       " 'Painting': 1,\n",
       " 'Painting on Stone': 1,\n",
       " 'Painting/mural': 1,\n",
       " 'Plaster': 1,\n",
       " 'Porcelain tile': 1,\n",
       " 'Porter all-weather outdoor paint': 1,\n",
       " 'Sculpture: bronze with brown patina; \\nBase: concrete covered with aggregate pebbles': 1,\n",
       " 'Sculpture: bronze, painted copper over patina;  Base: granite': 1,\n",
       " 'Sculpture: bronze;  \\nBase: stone on a concrete platform': 1,\n",
       " 'Sculpture: marble; sub base: marble; Bottom base: granite': 1,\n",
       " 'Silicate paint on brick and concrete block': 1,\n",
       " 'Silicate paint on concrete': 1,\n",
       " 'Spray Paint': 3,\n",
       " 'Steel': 1,\n",
       " 'Steel and Civil War cannonballs': 1,\n",
       " 'Steel, brick, wood, and fabric on frostproof ceramic tile': 1,\n",
       " 'Stone': 5,\n",
       " 'Stone on concrete and brick base': 1,\n",
       " 'Unknown metal': 2,\n",
       " 'acrylic': 1,\n",
       " 'acrylic & spray paint on plywood': 1,\n",
       " 'bronze': 1,\n",
       " 'bronze on bronze bench': 1,\n",
       " 'bronze on granite bench': 1,\n",
       " 'enamel spray paint': 1,\n",
       " 'high grade mild steel - galvanized, crystal': 1,\n",
       " 'interior wall paint on board': 1,\n",
       " 'latex block paint on concrete': 1,\n",
       " nan: 4,\n",
       " 'paint on brick': 1,\n",
       " 'painting': 1,\n",
       " 'spray paint on wall': 1}"
      ]
     },
     "execution_count": 50,
     "metadata": {},
     "output_type": "execute_result"
    }
   ],
   "source": [
    "#convert the counter to dictionary\n",
    "dict_counter = dict(using_counter)\n",
    "dict_counter"
   ]
  },
  {
   "cell_type": "code",
   "execution_count": 57,
   "metadata": {},
   "outputs": [
    {
     "ename": "SyntaxError",
     "evalue": "invalid syntax (<ipython-input-57-0ae3ff58c592>, line 4)",
     "output_type": "error",
     "traceback": [
      "\u001b[0;36m  File \u001b[0;32m\"<ipython-input-57-0ae3ff58c592>\"\u001b[0;36m, line \u001b[0;32m4\u001b[0m\n\u001b[0;31m    dict{key = art[\"Last Name\"], value = art[\"Description\"]}\u001b[0m\n\u001b[0m        ^\u001b[0m\n\u001b[0;31mSyntaxError\u001b[0m\u001b[0;31m:\u001b[0m invalid syntax\n"
     ]
    }
   ],
   "source": [
    "##DICTIONARIES\n",
    "##Artist last name(Key) ;; art title (vale)\n",
    "\n",
    "dict{key = art[\"Last Name\"], value = art[\"Description\"]}"
   ]
  },
  {
   "cell_type": "code",
   "execution_count": 58,
   "metadata": {},
   "outputs": [
    {
     "data": {
      "text/plain": [
       "{'Baker': 'History in Stained Glass',\n",
       " 'Bennyworth': 'Arial Triangle [from the Gravity Series]',\n",
       " 'Bloomer': 'Foliated Scroll',\n",
       " 'Brian Law / Jenna Colt': 'Maybelle Carter',\n",
       " 'Bryan Deese, Audie Adams, Ryan Shrader': 'Johnny Cash Mural',\n",
       " 'Cooper': 'Welcome to Flatrock',\n",
       " 'Cornwell': 'Industry, Agriculture, Commerce, Statesmanship',\n",
       " 'Cox-McCormack': 'Edward Ward Carmack',\n",
       " 'Deese': 'The Waterfall Mural',\n",
       " 'Eldred': 'Airport Sun Project',\n",
       " 'Emery': 'Ariel',\n",
       " 'Eskridge': 'The Birth of Apollo',\n",
       " 'Faxon': 'The Readers',\n",
       " 'Flack': 'The Recording Angel',\n",
       " 'Frost': '[Cross Country Runners]',\n",
       " 'Gelert and Cottrell': 'Furman Monument',\n",
       " 'Grey': 'President Andrew Johnson',\n",
       " 'Guion': 'Cool Fences',\n",
       " 'Haas': 'Nashville, A History through Maps and Aerial Views',\n",
       " 'Hastings': 'Dancing on Air',\n",
       " 'Healing Arts Project, Inc.': 'Building a Positive Community',\n",
       " 'Hendon': 'Roy Orbison Tribute Statue',\n",
       " 'Houge and Meek and Sweenson': 'Tennessee Falls',\n",
       " 'Hughes': 'Les Paul Guitar Mural',\n",
       " 'Hunter': 'Flights of Fantasy',\n",
       " 'Kahn': 'Wind Reeds',\n",
       " 'Kaskey': 'Orpheus and Eurydice',\n",
       " 'Kennedy': '12th & Porter Mural',\n",
       " 'Kinney': \"Tennessee Confederate Women's Memorial\",\n",
       " 'Kinney and Scholz': 'Victory',\n",
       " 'Kneiss': 'Sir Draco Star (a.k.a Eli)',\n",
       " 'LeQuire': 'Women Suffrage Memorial',\n",
       " 'Limor': 'Servant or Master',\n",
       " 'Lucking-Reilley': 'Can-Do',\n",
       " 'Martin': 'Rolf and Daughters Mural',\n",
       " 'McGraw': \"Children's Chairs For The Seasons\",\n",
       " 'Medwedeff': 'Confluence',\n",
       " 'Miles': 'Statue of Dr. W. E. B. Dubois',\n",
       " 'Mills': 'Andrew Jackson',\n",
       " 'Mims': 'The Three Graces',\n",
       " 'Moretti': 'The Peace Monument',\n",
       " 'Mutt': 'Benedictio',\n",
       " 'Neighborhood children supervised by artists Mimi Shimmin, Doug Stevenson, and Pam Vallett': 'Various',\n",
       " 'Nicoll': 'Confederate Memorial',\n",
       " 'Noland': 'Something in the Air',\n",
       " 'Omari Booker & The REAL Program at Oasis Center': 'We Are Our Stories',\n",
       " 'Outlaw': 'The Prince',\n",
       " 'Parrish': 'Untitled',\n",
       " 'Plensa': 'Isabella',\n",
       " 'Prado': 'Migration',\n",
       " 'Prestwod': 'April Baby',\n",
       " 'Purcell': 'In Concert',\n",
       " 'Ralston': 'Angel',\n",
       " 'Randolf and Glick': 'Dragon Wall Mural',\n",
       " 'Ridley': 'A Story of Nashville',\n",
       " 'Rudloff': 'Youth Opportunity Center-STARS Nashville - Peace Jam mural',\n",
       " 'Saporiti': 'Volume',\n",
       " 'Schon': 'Raccoons and the Magic Horseshoes',\n",
       " 'Sheng': 'Waveform: Pan American Blues',\n",
       " 'Shields': 'Thomas Gleen Ryman',\n",
       " 'Silva': 'Sea Serpent',\n",
       " 'Smith': 'Owen Bradley',\n",
       " 'Sorci': 'Timeless',\n",
       " 'Sterling Goller-Brown and Ian Lawrence, co-creators': 'Tomatoes',\n",
       " 'Sterling Goller-Brown.  Ian Lawrence': 'Two Musicians',\n",
       " 'Stevenson and Stanley and ROFF (Harroff)': 'A Splash of Color',\n",
       " 'The Kubach - Wilmsen Team': 'La Storia della Terra',\n",
       " 'Toomey': 'St. George and the Maiden',\n",
       " 'Tuck-Hinton': 'Tennessee WWII Memorial',\n",
       " 'Ulibarri': 'Rolling Hills',\n",
       " 'Unknown': 'Polarbears with Snowballs',\n",
       " 'Various': 'Vanderbilt University - Public Collection',\n",
       " 'Varo': 'The Flutist',\n",
       " 'Vichy': 'Phillips Monument',\n",
       " 'Walker': 'Lightning Wire Fountain',\n",
       " 'White & Son': 'Warner Monument',\n",
       " 'Will Ryman': 'Rose on 65th Street',\n",
       " 'Williams': 'Voices Gathering',\n",
       " 'Wise': 'Samaritan',\n",
       " 'Yandell': 'John W. Thomas',\n",
       " 'Zolnay': 'Sam Davis of Tennessee',\n",
       " 'de Weldon': 'Sergeant Alvin C. York'}"
      ]
     },
     "execution_count": 58,
     "metadata": {},
     "output_type": "execute_result"
    }
   ],
   "source": [
    "#this gives the output as a dic but overwrite the value each time it finds a new entry for the key\n",
    "#because \n",
    "dict( zip (art['Last Name'], art['Title']))"
   ]
  },
  {
   "cell_type": "code",
   "execution_count": 59,
   "metadata": {},
   "outputs": [
    {
     "data": {
      "text/plain": [
       "82"
      ]
     },
     "execution_count": 59,
     "metadata": {},
     "output_type": "execute_result"
    }
   ],
   "source": [
    "len(art['Last Name'].unique())"
   ]
  },
  {
   "cell_type": "code",
   "execution_count": 63,
   "metadata": {},
   "outputs": [
    {
     "data": {
      "text/plain": [
       "False"
      ]
     },
     "execution_count": 63,
     "metadata": {},
     "output_type": "execute_result"
    }
   ],
   "source": [
    "len(art['Last Name']) == len(art['Last Name'].unique())"
   ]
  },
  {
   "cell_type": "code",
   "execution_count": 61,
   "metadata": {},
   "outputs": [
    {
     "data": {
      "text/html": [
       "<div>\n",
       "<style scoped>\n",
       "    .dataframe tbody tr th:only-of-type {\n",
       "        vertical-align: middle;\n",
       "    }\n",
       "\n",
       "    .dataframe tbody tr th {\n",
       "        vertical-align: top;\n",
       "    }\n",
       "\n",
       "    .dataframe thead th {\n",
       "        text-align: right;\n",
       "    }\n",
       "</style>\n",
       "<table border=\"1\" class=\"dataframe\">\n",
       "  <thead>\n",
       "    <tr style=\"text-align: right;\">\n",
       "      <th></th>\n",
       "      <th>Title</th>\n",
       "      <th>Last Name</th>\n",
       "      <th>First Name</th>\n",
       "      <th>Location</th>\n",
       "      <th>Medium</th>\n",
       "      <th>Type</th>\n",
       "      <th>Description</th>\n",
       "      <th>Latitude</th>\n",
       "      <th>Longitude</th>\n",
       "      <th>Mapped Location</th>\n",
       "    </tr>\n",
       "  </thead>\n",
       "  <tbody>\n",
       "    <tr>\n",
       "      <th>9</th>\n",
       "      <td>Anticipation</td>\n",
       "      <td>Faxon</td>\n",
       "      <td>Russell</td>\n",
       "      <td>505 Deaderick Street, Nashville TN</td>\n",
       "      <td>Cold cast bronze</td>\n",
       "      <td>Sculpture</td>\n",
       "      <td>A statue of a woman with legs crossed sitting ...</td>\n",
       "      <td>36.16489</td>\n",
       "      <td>-86.78184</td>\n",
       "      <td>(36.16489, -86.78184)</td>\n",
       "    </tr>\n",
       "    <tr>\n",
       "      <th>17</th>\n",
       "      <td>Blowing Bubbles</td>\n",
       "      <td>Faxon</td>\n",
       "      <td>Russell</td>\n",
       "      <td>4715 Harding Pike, Nashville TN</td>\n",
       "      <td>Bronze</td>\n",
       "      <td>Sculpture</td>\n",
       "      <td>NaN</td>\n",
       "      <td>36.11975</td>\n",
       "      <td>-86.85343</td>\n",
       "      <td>(36.11975, -86.85343)</td>\n",
       "    </tr>\n",
       "    <tr>\n",
       "      <th>18</th>\n",
       "      <td>Breaking Bread</td>\n",
       "      <td>Faxon</td>\n",
       "      <td>Russell</td>\n",
       "      <td>705 Drexel Street</td>\n",
       "      <td>bronze</td>\n",
       "      <td>Sculpture</td>\n",
       "      <td>The work represents the principal of sharing.</td>\n",
       "      <td>36.15203</td>\n",
       "      <td>-86.77849</td>\n",
       "      <td>(36.15203, -86.77849)</td>\n",
       "    </tr>\n",
       "    <tr>\n",
       "      <th>21</th>\n",
       "      <td>Chet Atkins</td>\n",
       "      <td>Faxon</td>\n",
       "      <td>Russell</td>\n",
       "      <td>Corner of Fifth Avenue North and Union Street,...</td>\n",
       "      <td>Bronze stool and guitar on a granite plynth</td>\n",
       "      <td>Sculpture</td>\n",
       "      <td>A sculpture of a young Chet Atkins seated on a...</td>\n",
       "      <td>36.16466</td>\n",
       "      <td>-86.78102</td>\n",
       "      <td>(36.16466, -86.78102)</td>\n",
       "    </tr>\n",
       "    <tr>\n",
       "      <th>31</th>\n",
       "      <td>Ed and Bernice Johnson and Mary</td>\n",
       "      <td>Faxon</td>\n",
       "      <td>Russell</td>\n",
       "      <td>1900 Belmont Blvd, Nashville TN</td>\n",
       "      <td>Bronze</td>\n",
       "      <td>Sculpture</td>\n",
       "      <td>NaN</td>\n",
       "      <td>36.13264</td>\n",
       "      <td>-86.79473</td>\n",
       "      <td>(36.13264, -86.79473)</td>\n",
       "    </tr>\n",
       "    <tr>\n",
       "      <th>51</th>\n",
       "      <td>Isabelle and Calvin</td>\n",
       "      <td>Faxon</td>\n",
       "      <td>Russell</td>\n",
       "      <td>1718 Patterson Street</td>\n",
       "      <td>bronze on granite bench</td>\n",
       "      <td>Sculpture</td>\n",
       "      <td>NaN</td>\n",
       "      <td>36.15759</td>\n",
       "      <td>-86.79837</td>\n",
       "      <td>(36.15759, -86.79837)</td>\n",
       "    </tr>\n",
       "    <tr>\n",
       "      <th>67</th>\n",
       "      <td>Oh, Roy</td>\n",
       "      <td>Faxon</td>\n",
       "      <td>Russell</td>\n",
       "      <td>116 5th Ave N, Nashville TN</td>\n",
       "      <td>Bronze</td>\n",
       "      <td>Sculpture</td>\n",
       "      <td>Minnie Pearl and Roy Acuff seated on a bench i...</td>\n",
       "      <td>36.16151</td>\n",
       "      <td>-86.77816</td>\n",
       "      <td>(36.16151, -86.77816)</td>\n",
       "    </tr>\n",
       "    <tr>\n",
       "      <th>95</th>\n",
       "      <td>St. Vincent de Paul</td>\n",
       "      <td>Faxon</td>\n",
       "      <td>Russell</td>\n",
       "      <td>2216 State Street, Nashville TN</td>\n",
       "      <td>Hollow metal</td>\n",
       "      <td>Sculpture</td>\n",
       "      <td>De Paul wears long robes and a skull cap.  He ...</td>\n",
       "      <td>36.15234</td>\n",
       "      <td>-86.80603</td>\n",
       "      <td>(36.15234, -86.80603)</td>\n",
       "    </tr>\n",
       "    <tr>\n",
       "      <th>101</th>\n",
       "      <td>Tennessee Korean War Memorial</td>\n",
       "      <td>Faxon</td>\n",
       "      <td>Russell</td>\n",
       "      <td>301 6th Avenue North, Nashville TN</td>\n",
       "      <td>Bronze sculpture on bronze base with black gra...</td>\n",
       "      <td>Monument</td>\n",
       "      <td>Two male figures dressed in combat fatigues an...</td>\n",
       "      <td>36.16414</td>\n",
       "      <td>-86.78289</td>\n",
       "      <td>(36.16414, -86.78289)</td>\n",
       "    </tr>\n",
       "    <tr>\n",
       "      <th>108</th>\n",
       "      <td>The Readers</td>\n",
       "      <td>Faxon</td>\n",
       "      <td>Russell</td>\n",
       "      <td>3701 Benham Avenue, Nashville</td>\n",
       "      <td>bronze on bronze bench</td>\n",
       "      <td>Sculpture</td>\n",
       "      <td>NaN</td>\n",
       "      <td>36.10997</td>\n",
       "      <td>-86.80924</td>\n",
       "      <td>(36.10997, -86.80924)</td>\n",
       "    </tr>\n",
       "  </tbody>\n",
       "</table>\n",
       "</div>"
      ],
      "text/plain": [
       "                               Title Last Name First Name  \\\n",
       "9                       Anticipation     Faxon    Russell   \n",
       "17                   Blowing Bubbles     Faxon    Russell   \n",
       "18                    Breaking Bread     Faxon    Russell   \n",
       "21                       Chet Atkins     Faxon    Russell   \n",
       "31   Ed and Bernice Johnson and Mary     Faxon    Russell   \n",
       "51               Isabelle and Calvin     Faxon    Russell   \n",
       "67                           Oh, Roy     Faxon    Russell   \n",
       "95               St. Vincent de Paul     Faxon    Russell   \n",
       "101    Tennessee Korean War Memorial     Faxon    Russell   \n",
       "108                      The Readers     Faxon    Russell   \n",
       "\n",
       "                                              Location  \\\n",
       "9                   505 Deaderick Street, Nashville TN   \n",
       "17                     4715 Harding Pike, Nashville TN   \n",
       "18                                   705 Drexel Street   \n",
       "21   Corner of Fifth Avenue North and Union Street,...   \n",
       "31                     1900 Belmont Blvd, Nashville TN   \n",
       "51                               1718 Patterson Street   \n",
       "67                         116 5th Ave N, Nashville TN   \n",
       "95                     2216 State Street, Nashville TN   \n",
       "101                 301 6th Avenue North, Nashville TN   \n",
       "108                      3701 Benham Avenue, Nashville   \n",
       "\n",
       "                                                Medium       Type  \\\n",
       "9                                     Cold cast bronze  Sculpture   \n",
       "17                                              Bronze  Sculpture   \n",
       "18                                              bronze  Sculpture   \n",
       "21         Bronze stool and guitar on a granite plynth  Sculpture   \n",
       "31                                              Bronze  Sculpture   \n",
       "51                             bronze on granite bench  Sculpture   \n",
       "67                                              Bronze  Sculpture   \n",
       "95                                        Hollow metal  Sculpture   \n",
       "101  Bronze sculpture on bronze base with black gra...   Monument   \n",
       "108                             bronze on bronze bench  Sculpture   \n",
       "\n",
       "                                           Description  Latitude  Longitude  \\\n",
       "9    A statue of a woman with legs crossed sitting ...  36.16489  -86.78184   \n",
       "17                                                 NaN  36.11975  -86.85343   \n",
       "18       The work represents the principal of sharing.  36.15203  -86.77849   \n",
       "21   A sculpture of a young Chet Atkins seated on a...  36.16466  -86.78102   \n",
       "31                                                 NaN  36.13264  -86.79473   \n",
       "51                                                 NaN  36.15759  -86.79837   \n",
       "67   Minnie Pearl and Roy Acuff seated on a bench i...  36.16151  -86.77816   \n",
       "95   De Paul wears long robes and a skull cap.  He ...  36.15234  -86.80603   \n",
       "101  Two male figures dressed in combat fatigues an...  36.16414  -86.78289   \n",
       "108                                                NaN  36.10997  -86.80924   \n",
       "\n",
       "           Mapped Location  \n",
       "9    (36.16489, -86.78184)  \n",
       "17   (36.11975, -86.85343)  \n",
       "18   (36.15203, -86.77849)  \n",
       "21   (36.16466, -86.78102)  \n",
       "31   (36.13264, -86.79473)  \n",
       "51   (36.15759, -86.79837)  \n",
       "67   (36.16151, -86.77816)  \n",
       "95   (36.15234, -86.80603)  \n",
       "101  (36.16414, -86.78289)  \n",
       "108  (36.10997, -86.80924)  "
      ]
     },
     "execution_count": 61,
     "metadata": {},
     "output_type": "execute_result"
    }
   ],
   "source": [
    "art[art['Last Name'] == 'Faxon']"
   ]
  },
  {
   "cell_type": "code",
   "execution_count": null,
   "metadata": {},
   "outputs": [],
   "source": []
  }
 ],
 "metadata": {
  "kernelspec": {
   "display_name": "Python 3",
   "language": "python",
   "name": "python3"
  },
  "language_info": {
   "codemirror_mode": {
    "name": "ipython",
    "version": 3
   },
   "file_extension": ".py",
   "mimetype": "text/x-python",
   "name": "python",
   "nbconvert_exporter": "python",
   "pygments_lexer": "ipython3",
   "version": "3.6.3"
  }
 },
 "nbformat": 4,
 "nbformat_minor": 2
}

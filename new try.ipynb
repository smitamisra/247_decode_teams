{
 "cells": [
  {
   "cell_type": "code",
   "execution_count": 1,
   "metadata": {},
   "outputs": [],
   "source": [
    "import pandas as pd\n",
    "import re\n",
    "import os\n",
    "import logging\n",
    "import datetime\n",
    "import json\n",
    "import glob\n",
    "\n",
    "import requests\n",
    "import getpass"
   ]
  },
  {
   "cell_type": "code",
   "execution_count": 2,
   "metadata": {},
   "outputs": [],
   "source": [
    "#raw = open(\"data/date_10_09_01/StreamToS3-5-2017-10-09-01-01-54-58a7111f-767d-47c9-a52b-397b12f91408\")"
   ]
  },
  {
   "cell_type": "code",
   "execution_count": 33,
   "metadata": {},
   "outputs": [],
   "source": [
    "def text_to_json (filename):\n",
    "    raw = open(filename)\n",
    "    txt = raw.read()\n",
    "    j_txt = re.sub('}{', '},{', txt)\n",
    "    j_file = \"[\" + j_txt + \"]\"\n",
    "    j_object = json.loads(j_file)\n",
    "    df = pd.DataFrame(j_object)\n",
    "    #df = pd.append(pd.DataFrame(j_object))\n",
    "#     df\n",
    "    return df;"
   ]
  },
  {
   "cell_type": "code",
   "execution_count": 34,
   "metadata": {},
   "outputs": [
    {
     "data": {
      "text/html": [
       "<div>\n",
       "<style scoped>\n",
       "    .dataframe tbody tr th:only-of-type {\n",
       "        vertical-align: middle;\n",
       "    }\n",
       "\n",
       "    .dataframe tbody tr th {\n",
       "        vertical-align: top;\n",
       "    }\n",
       "\n",
       "    .dataframe thead th {\n",
       "        text-align: right;\n",
       "    }\n",
       "</style>\n",
       "<table border=\"1\" class=\"dataframe\">\n",
       "  <thead>\n",
       "    <tr style=\"text-align: right;\">\n",
       "      <th></th>\n",
       "      <th>authorKey</th>\n",
       "      <th>contentKey</th>\n",
       "      <th>pathRoot</th>\n",
       "      <th>publishedDate</th>\n",
       "      <th>referrer</th>\n",
       "      <th>siteKey</th>\n",
       "      <th>timeStamp</th>\n",
       "      <th>userAgent</th>\n",
       "      <th>userId</th>\n",
       "      <th>userStatus</th>\n",
       "    </tr>\n",
       "  </thead>\n",
       "  <tbody>\n",
       "    <tr>\n",
       "      <th>0</th>\n",
       "      <td>1.000669e+09</td>\n",
       "      <td>3.022194e+09</td>\n",
       "      <td>GALLERY</td>\n",
       "      <td>10/1/2017 9:29:38 PM</td>\n",
       "      <td>None</td>\n",
       "      <td>24313856</td>\n",
       "      <td>Thu, 05 Oct 2017 12:55:16 GMT</td>\n",
       "      <td>Mozilla/5.0 (Windows NT 10.0; Win64; x64) Appl...</td>\n",
       "      <td>e5939b04-d9f2-48eb-bf72-af44b8c67d22</td>\n",
       "      <td>Guest</td>\n",
       "    </tr>\n",
       "    <tr>\n",
       "      <th>1</th>\n",
       "      <td>1.000669e+09</td>\n",
       "      <td>3.022194e+09</td>\n",
       "      <td>GALLERY</td>\n",
       "      <td>10/1/2017 9:29:38 PM</td>\n",
       "      <td>http://m.facebook.com/</td>\n",
       "      <td>25427968</td>\n",
       "      <td>Thu, 05 Oct 2017 12:55:15 GMT</td>\n",
       "      <td>Mozilla/5.0 (Linux; Android 7.0; SM-N920V Buil...</td>\n",
       "      <td>d5516c16-0f77-40f1-a809-6ef213386ef5</td>\n",
       "      <td>Guest</td>\n",
       "    </tr>\n",
       "    <tr>\n",
       "      <th>2</th>\n",
       "      <td>2.846949e+09</td>\n",
       "      <td>3.314747e+09</td>\n",
       "      <td>GALLERY</td>\n",
       "      <td>7/14/2017 11:57:32 AM</td>\n",
       "      <td>http://m.facebook.com/</td>\n",
       "      <td>24248320</td>\n",
       "      <td>Thu, 05 Oct 2017 12:55:16 GMT</td>\n",
       "      <td>Mozilla/5.0 (Linux; Android 7.0; SM-G930P Buil...</td>\n",
       "      <td>b6973564-c244-43fa-8767-2f1939a05186</td>\n",
       "      <td>Guest</td>\n",
       "    </tr>\n",
       "    <tr>\n",
       "      <th>3</th>\n",
       "      <td>2.523529e+09</td>\n",
       "      <td>1.389758e+09</td>\n",
       "      <td>GALLERY</td>\n",
       "      <td>10/4/2017 12:03:07 PM</td>\n",
       "      <td>https://m.facebook.com/home.php?ref=bookmarks</td>\n",
       "      <td>24248320</td>\n",
       "      <td>Thu, 05 Oct 2017 12:55:14 GMT</td>\n",
       "      <td>Mozilla/5.0 (Linux; Android 6.0.1; SAMSUNG SM-...</td>\n",
       "      <td>b52a2198-dc0e-4e40-b672-805f520ffa13</td>\n",
       "      <td>Guest</td>\n",
       "    </tr>\n",
       "    <tr>\n",
       "      <th>4</th>\n",
       "      <td>2.099970e+09</td>\n",
       "      <td>1.227753e+09</td>\n",
       "      <td>BOLT</td>\n",
       "      <td>10/2/2017 5:57:21 PM</td>\n",
       "      <td>http://m.facebook.com/</td>\n",
       "      <td>25165824</td>\n",
       "      <td>Thu, 05 Oct 2017 12:55:11 GMT</td>\n",
       "      <td>Mozilla/5.0 (Linux; Android 7.0; LG-H830 Build...</td>\n",
       "      <td>42facab3-0d11-44a6-9b44-164a7c7c12e3</td>\n",
       "      <td>Guest</td>\n",
       "    </tr>\n",
       "  </tbody>\n",
       "</table>\n",
       "</div>"
      ],
      "text/plain": [
       "      authorKey    contentKey pathRoot          publishedDate  \\\n",
       "0  1.000669e+09  3.022194e+09  GALLERY   10/1/2017 9:29:38 PM   \n",
       "1  1.000669e+09  3.022194e+09  GALLERY   10/1/2017 9:29:38 PM   \n",
       "2  2.846949e+09  3.314747e+09  GALLERY  7/14/2017 11:57:32 AM   \n",
       "3  2.523529e+09  1.389758e+09  GALLERY  10/4/2017 12:03:07 PM   \n",
       "4  2.099970e+09  1.227753e+09     BOLT   10/2/2017 5:57:21 PM   \n",
       "\n",
       "                                        referrer   siteKey  \\\n",
       "0                                           None  24313856   \n",
       "1                         http://m.facebook.com/  25427968   \n",
       "2                         http://m.facebook.com/  24248320   \n",
       "3  https://m.facebook.com/home.php?ref=bookmarks  24248320   \n",
       "4                         http://m.facebook.com/  25165824   \n",
       "\n",
       "                       timeStamp  \\\n",
       "0  Thu, 05 Oct 2017 12:55:16 GMT   \n",
       "1  Thu, 05 Oct 2017 12:55:15 GMT   \n",
       "2  Thu, 05 Oct 2017 12:55:16 GMT   \n",
       "3  Thu, 05 Oct 2017 12:55:14 GMT   \n",
       "4  Thu, 05 Oct 2017 12:55:11 GMT   \n",
       "\n",
       "                                           userAgent  \\\n",
       "0  Mozilla/5.0 (Windows NT 10.0; Win64; x64) Appl...   \n",
       "1  Mozilla/5.0 (Linux; Android 7.0; SM-N920V Buil...   \n",
       "2  Mozilla/5.0 (Linux; Android 7.0; SM-G930P Buil...   \n",
       "3  Mozilla/5.0 (Linux; Android 6.0.1; SAMSUNG SM-...   \n",
       "4  Mozilla/5.0 (Linux; Android 7.0; LG-H830 Build...   \n",
       "\n",
       "                                 userId userStatus  \n",
       "0  e5939b04-d9f2-48eb-bf72-af44b8c67d22      Guest  \n",
       "1  d5516c16-0f77-40f1-a809-6ef213386ef5      Guest  \n",
       "2  b6973564-c244-43fa-8767-2f1939a05186      Guest  \n",
       "3  b52a2198-dc0e-4e40-b672-805f520ffa13      Guest  \n",
       "4  42facab3-0d11-44a6-9b44-164a7c7c12e3      Guest  "
      ]
     },
     "execution_count": 34,
     "metadata": {},
     "output_type": "execute_result"
    }
   ],
   "source": [
    "new_df = text_to_json ('data/date_10_05_12/StreamToS3-5-2017-10-05-12-55-15-584752c4-f668-487f-a131-b63f39b45f65')\n",
    "new_df.head()"
   ]
  },
  {
   "cell_type": "code",
   "execution_count": 23,
   "metadata": {},
   "outputs": [
    {
     "name": "stdout",
     "output_type": "stream",
     "text": [
      "['StreamToS3-5-2017-10-05-12-55-15-584752c4-f668-487f-a131-b63f39b45f65', 'StreamToS3-5-2017-10-05-12-26-12-c3481d6f-2e41-4bef-92cb-dd4dc2d05c44', 'StreamToS3-5-2017-10-05-12-11-09-258ed67e-ab29-4595-a8b4-90d07925d41a', 'StreamToS3-5-2017-10-05-12-14-48-93257088-b4e9-4ebb-9feb-4d227d53a854', 'StreamToS3-5-2017-10-05-12-22-36-6258fc7d-49bf-4080-845e-95e9242eede8', 'StreamToS3-5-2017-10-05-12-50-15-789c79a8-eb1d-4184-838b-20181cf44299', 'StreamToS3-5-2017-10-05-12-20-08-674d383c-4f07-403e-af6b-795425cfc35c', 'StreamToS3-5-2017-10-05-12-24-49-71afe2fa-81c5-48f7-b59d-e8a720abf163', 'StreamToS3-5-2017-10-05-12-51-38-c0a1be7f-119c-49ae-aebb-e9f31308a36e', 'StreamToS3-5-2017-10-05-12-21-13-02d711ca-4956-4755-87aa-fbfa9879fd9c', 'StreamToS3-5-2017-10-05-12-12-34-787f1513-1e5b-41b3-9634-8953c7a54cb0', 'StreamToS3-5-2017-10-05-12-07-30-17d8cccd-7122-4c52-82ab-25aa65fa2eca', 'StreamToS3-5-2017-10-05-12-17-35-166578a8-37d9-45a0-aea4-a6c35ab999f3', 'StreamToS3-5-2017-10-05-12-01-11-b1755e48-7ad7-495a-9763-e418f7f5ec1b', 'StreamToS3-5-2017-10-05-12-41-34-61f54d66-5f74-4379-b1cb-0fb0094be43c', 'StreamToS3-5-2017-10-05-12-27-36-fedd29c3-973f-4274-82a1-8a282e5562f7', 'StreamToS3-5-2017-10-05-12-47-38-244e444e-7959-4b0e-b2ce-5c59c82ab2e7', 'StreamToS3-5-2017-10-05-12-52-39-f8a987bc-1c7a-481d-aac9-d03e3eb587d7', 'StreamToS3-5-2017-10-05-12-05-04-645786a7-510b-4c8b-b77f-9696db0a8149', 'StreamToS3-5-2017-10-05-12-10-05-9ceb3ddf-2389-432c-8e53-a1dd6e2c8676', 'StreamToS3-5-2017-10-05-12-09-48-b2652b5b-0a48-4247-9050-58d3388002f5', 'StreamToS3-5-2017-10-05-12-35-13-f625c2c2-ce65-4c41-8d35-764513173d31', 'StreamToS3-5-2017-10-05-12-39-54-412ae4d6-2aad-47e6-8ae0-10f0b7343640', 'StreamToS3-5-2017-10-05-12-32-37-deaf4d48-670a-44d3-9b96-7efbe9ce01ed', 'StreamToS3-5-2017-10-05-12-36-16-411e416f-a5fd-43c9-8ffd-e47708cd01dd', 'StreamToS3-5-2017-10-05-12-56-39-538f94c5-0aeb-493e-8c07-19b983b3c9a6', 'StreamToS3-5-2017-10-05-12-29-53-0fbbfc62-77e9-442a-8e28-e41f0ffb81b0', 'StreamToS3-5-2017-10-05-12-04-47-b777f6e1-d6b7-47a0-84a8-292d28d29d23', 'StreamToS3-5-2017-10-05-12-30-12-77227255-8006-4d14-b10c-e2af64d82662', 'StreamToS3-5-2017-10-05-12-15-06-ec2812a4-6fbe-413b-85d5-6720ed9883f7', 'StreamToS3-5-2017-10-05-12-49-59-53e880c0-1a71-4f6e-b41e-d4543953c98c', 'StreamToS3-5-2017-10-05-12-02-32-49176adf-f240-4c99-af97-28c16370b215', 'StreamToS3-5-2017-10-05-12-37-37-2863ce12-76ea-49ec-9b38-9a89157eb3de', 'StreamToS3-5-2017-10-05-12-34-54-02315fa2-f55d-4d03-87d0-f28e939763db', 'StreamToS3-5-2017-10-05-12-00-03-bd6ea833-07c9-4803-98a1-7b3d0b9546c0', 'StreamToS3-5-2017-10-05-12-40-13-84ce2c1e-f30c-4b34-b2a9-b66310d1444d', 'StreamToS3-5-2017-10-05-12-44-55-a35215f0-5bad-4e88-a2df-04908337d57e', 'StreamToS3-5-2017-10-05-12-57-39-e5210fbe-fd10-4342-9242-537a3fb6fa4a', 'StreamToS3-5-2017-10-05-12-16-13-821e145d-8e06-4ddb-b142-3eeb043d19d0', 'StreamToS3-5-2017-10-05-12-42-38-0432c74a-502a-461b-a484-ab15780807d9', 'StreamToS3-5-2017-10-05-12-31-14-86ee6ab9-df35-4652-b19e-e7acbe9c0560', 'StreamToS3-5-2017-10-05-12-54-56-198b482c-25cb-4184-81f8-550336dffb1a', 'StreamToS3-5-2017-10-05-12-06-12-d7060db9-6a11-4df2-beb1-610e794c5071', 'StreamToS3-5-2017-10-05-12-25-08-dbb0d198-0f2f-40ec-a913-33c964d572c5', 'StreamToS3-5-2017-10-05-12-45-14-0faf5406-6d4c-4e29-97e9-5fef06a36e25', 'StreamToS3-5-2017-10-05-12-19-49-c8a3bf51-2581-4923-bddd-04df6bd39476', 'StreamToS3-5-2017-10-05-12-46-34-57a8f8c0-dad3-4d9c-972e-ba81df65e62a', 'StreamToS3-5-2017-10-06-02-46-42-54c5cc4b-569a-4b0b-bf4d-62ddc3063097', 'StreamToS3-5-2017-10-06-02-48-04-4592ee99-ba3a-4fad-bf86-1359694d24a6', 'StreamToS3-5-2017-10-06-02-26-25-6a43a0b8-0b88-4f12-b9ac-08ee5df80ce3', 'StreamToS3-5-2017-10-06-02-53-08-7f7dcd54-0301-4323-9188-3963030da27c', 'StreamToS3-5-2017-10-06-02-03-32-0b9181e3-492a-41fb-ad0c-ff8d334e730d', 'StreamToS3-5-2017-10-06-02-33-24-17fe5b30-2226-4377-bc0a-b6a5f84bf1c0', 'StreamToS3-5-2017-10-06-02-12-58-a59270d1-0e9d-4158-8b06-dd6f9670ac2a', 'StreamToS3-5-2017-10-06-02-43-27-0d3ff836-1780-43f0-9faf-d739d600a3d7', 'StreamToS3-5-2017-10-06-02-13-22-624d4a2e-56f9-4480-9dcc-189dd5601269', 'StreamToS3-5-2017-10-06-02-58-44-c1c51ef4-9034-4499-97f1-47ceb250eb3d', 'StreamToS3-5-2017-10-06-02-53-25-e712225e-6cde-4d4a-a03c-83fe533432b5', 'StreamToS3-5-2017-10-06-02-03-20-7f7be2f8-03c2-45d1-bb83-0544d349c230', 'StreamToS3-5-2017-10-06-02-28-21-213a0afe-1278-4dc9-ace5-5562a8c11ea1', 'StreamToS3-5-2017-10-06-02-58-10-b0e5f92f-f5e4-4e96-b174-0adb41b69fe7', 'StreamToS3-5-2017-10-06-02-23-32-e018f289-71c3-447b-962e-327dfd235124', 'StreamToS3-5-2017-10-06-02-38-27-2bd6636c-1a8f-4d9b-bdc2-2d4fdce74e37', 'StreamToS3-5-2017-10-06-02-28-36-dc727e77-5f2f-44a3-9dc7-1dedaa715600', 'StreamToS3-5-2017-10-06-02-48-38-7deb8e05-44ff-4546-9a44-c778b4dcfde8', 'StreamToS3-5-2017-10-06-02-56-39-099e2dc3-626d-4de2-8040-b229dc96d760', 'StreamToS3-5-2017-10-06-02-36-34-c9809300-ced3-4649-82c4-274a4398074e', 'StreamToS3-5-2017-10-06-02-43-37-14883e04-72c3-429a-9eb7-2d71087a4d01', 'StreamToS3-5-2017-10-06-02-08-32-539954ff-ce96-4c40-98d4-e9aff941ebd2', 'StreamToS3-5-2017-10-06-02-21-24-9c2dee9b-b1f7-4bf0-85dc-421978907695', 'StreamToS3-5-2017-10-06-02-18-33-110b26d7-70b5-499d-a7d3-5fe9aa9977d1', 'StreamToS3-5-2017-10-06-02-02-54-9d58eccb-12d0-44cf-a756-14b12d2b77db', 'StreamToS3-5-2017-10-06-02-58-28-11d79cba-9071-4d16-86b8-2cb5b56726df', 'StreamToS3-5-2017-10-06-02-23-00-6ac9102b-d769-4927-aac5-d24845054d48', 'StreamToS3-5-2017-10-06-02-51-43-ddff7bd5-988e-45fa-bcb9-25feea004127', 'StreamToS3-5-2017-10-06-02-07-57-ddd73715-d3c1-436f-8542-1d94120146b0', 'StreamToS3-5-2017-10-06-02-18-23-e0f629a9-343b-49f3-8657-66560723bb2f', 'StreamToS3-5-2017-10-06-02-08-21-061b85cb-ecd4-4069-8f39-c58a0b11b958', 'StreamToS3-5-2017-10-06-02-41-38-6fb54bd9-7a5e-4064-8187-637221a0917b', 'StreamToS3-5-2017-10-06-02-48-28-8279d329-bda5-4c08-9772-932416e1a0aa', 'StreamToS3-5-2017-10-06-02-01-21-56470cde-6661-464e-8204-66d48542124e', 'StreamToS3-5-2017-10-06-02-16-22-b81b2bab-c17b-4e3d-9f3b-eeb2bbab94ee', 'StreamToS3-5-2017-10-06-02-17-55-718e8fd8-9e59-47bf-a8a9-edc69960260d', 'StreamToS3-5-2017-10-06-02-28-00-5fcf1c8d-7f32-495f-b28e-1f492ed66dcf', 'StreamToS3-5-2017-10-06-02-38-37-eacd5b03-59f5-4fbb-8d39-c2d7bd7a0df8', 'StreamToS3-5-2017-10-06-02-13-33-cd73e281-4e00-4a73-9949-8d5ea483815d', 'StreamToS3-5-2017-10-06-02-31-30-ed81a111-174e-45b9-9877-38ef44b98948', 'StreamToS3-5-2017-10-06-02-23-23-3108a6e8-cd92-4f21-b9c9-47ca77c8d2c4', 'StreamToS3-5-2017-10-06-02-43-01-a495ad7c-5fd2-46da-803b-c95ffff1bd83', 'StreamToS3-5-2017-10-06-02-32-59-34924bf9-79e6-467f-a2a3-df5b02b178b0', 'StreamToS3-5-2017-10-06-02-11-23-3c0d4bf4-2482-402d-8aca-d98bc88e4992', 'StreamToS3-5-2017-10-06-02-53-43-64f287e7-8ae9-472e-91ee-32036d1c06bb', 'StreamToS3-5-2017-10-06-02-33-36-b36e6d7d-b3fd-4005-81b8-3557c473571b', 'StreamToS3-5-2017-10-06-02-06-22-621d9d49-f7ae-4d52-b4ba-535ba9b5d0bf', 'StreamToS3-5-2017-10-06-02-37-59-b4862786-709a-4032-a7e0-0f82eb3024c8', 'StreamToS3-5-2017-10-08-12-03-22-e261fbbe-e585-4a0e-a627-311052ae1ac4', 'StreamToS3-5-2017-10-08-12-43-55-2f112b29-98b2-491e-a15e-41665150abdf', 'StreamToS3-5-2017-10-08-12-48-17-0bdc0080-7a8d-42ab-9556-7d6436c284b8', 'StreamToS3-5-2017-10-08-12-13-22-f7b97167-c28f-4fe7-9821-c21930fffd2c', 'StreamToS3-5-2017-10-08-12-38-17-fdf22757-8deb-4548-a746-85515fc1e4d7', 'StreamToS3-5-2017-10-08-12-28-11-f40102cb-1bd5-49fe-93fa-0aba4be67c64', 'StreamToS3-5-2017-10-08-12-18-43-682fd954-abc4-4050-8e75-5eae0dc5198a', 'StreamToS3-5-2017-10-08-12-03-00-49ef5872-3c86-45b2-848b-3ec54af4f2a7', 'StreamToS3-5-2017-10-08-12-33-29-f5b39514-8891-422c-bff3-bd705302061f', 'StreamToS3-5-2017-10-08-12-38-29-1af9dcd7-6614-482e-afd7-37bcbbba64fd', 'StreamToS3-5-2017-10-08-12-08-22-bd88365c-8c7c-4e63-b129-04d0868927e4', 'StreamToS3-5-2017-10-08-12-23-43-e7e4821c-3025-4919-a851-c5573da1c35c', 'StreamToS3-5-2017-10-08-12-53-55-694ba51c-b815-492d-8aee-4db88c3aaef7', 'StreamToS3-5-2017-10-08-12-03-37-aab505b1-ccca-4558-9fca-021a80fae51d', 'StreamToS3-5-2017-10-08-12-11-40-f951ee98-f4b3-403f-99e4-6712ff90343f', 'StreamToS3-5-2017-10-08-12-58-23-3d98f3f0-cee6-4ddb-be05-c1aac45c2d8e', 'StreamToS3-5-2017-10-08-12-43-29-12f1af74-1528-469e-8244-34e5ab2a89de', 'StreamToS3-5-2017-10-08-12-28-47-e1304fd9-1e71-44b3-8b1f-1aee8dbaabd8', 'StreamToS3-5-2017-10-08-12-08-38-c491fa09-7e5d-4277-ba1b-98ef82da43a1', 'StreamToS3-5-2017-10-08-12-48-31-5728baff-a00c-4b47-8955-e9183b075652', 'StreamToS3-5-2017-10-08-12-16-40-51825686-1935-4df0-bc99-305e441c5cb8', 'StreamToS3-5-2017-10-08-12-13-42-855fb5e7-443a-45f9-9182-cc811f3b7934', 'StreamToS3-5-2017-10-08-12-13-08-d8b034e0-c410-42d6-9f36-698713d53521', 'StreamToS3-5-2017-10-08-12-33-13-d275d256-1718-4062-9b1b-0d34ad831d9a', 'StreamToS3-5-2017-10-08-12-41-42-d1da7ded-c2e0-46fc-bf63-c44c0062d70f', 'StreamToS3-5-2017-10-08-12-23-07-c29e8d03-af82-478b-ae22-0d4a3cad25bc', 'StreamToS3-5-2017-10-08-12-21-41-9a90e6b9-5b1c-4924-bc93-10ea7822e27e', 'StreamToS3-5-2017-10-08-12-01-32-6017030e-b34d-4c75-92c7-be2efd764a54', 'StreamToS3-5-2017-10-08-12-43-17-7e895a12-8a3f-4330-870f-b1d621d6a141', 'StreamToS3-5-2017-10-08-12-33-51-6272fae1-d62d-4f06-bc9e-d07a3d2dbfc3', 'StreamToS3-5-2017-10-08-12-53-18-eeea4d26-5b9d-4c6e-b946-877405e31798', 'StreamToS3-5-2017-10-08-12-08-02-b97492c8-5fda-43fc-a3fa-647930c869bb', 'StreamToS3-5-2017-10-08-12-18-23-d3f10a8c-6afd-49fe-9709-5c6d12c24ca2', 'StreamToS3-5-2017-10-08-12-18-08-a88b2e26-00bd-40fa-b10e-c7986d79346f', 'StreamToS3-5-2017-10-08-12-51-48-7ca25a2e-e061-42e1-9533-77dd4b9083b7', 'StreamToS3-5-2017-10-08-12-26-41-4f68dd99-e22d-49ff-bcc0-2651ff93045d', 'StreamToS3-5-2017-10-08-12-53-31-9db18fdd-f09f-4320-b2be-27772109d319', 'StreamToS3-5-2017-10-08-12-23-21-3ca7c853-ed5a-4a85-a644-1ae2745a0b7f', 'StreamToS3-5-2017-10-08-12-46-47-1ba641c3-f636-4e69-acd3-1cf248d2d426', 'StreamToS3-5-2017-10-08-12-48-52-2ee033da-7e83-4343-ae30-f068746c9259', 'StreamToS3-5-2017-10-08-12-36-42-b09ea901-780e-43e7-b288-cc60e4e71796', 'StreamToS3-5-2017-10-08-12-58-59-08c25f13-d655-4b20-a045-465efded3159', 'StreamToS3-5-2017-10-08-12-31-42-7633d0f9-c9c1-4417-ae39-5167517d4df6', 'StreamToS3-5-2017-10-08-12-06-36-276c7e2b-790b-485c-a51e-7b3f74d93d42', 'StreamToS3-5-2017-10-08-12-38-55-e5213c17-fb17-464c-8691-3149cab23fc2', 'StreamToS3-5-2017-10-08-12-28-25-8f196d15-42e6-408b-b53c-eca32e25e185', 'StreamToS3-5-2017-10-08-12-56-52-1c9eec81-6404-490b-8781-503b6aa7134b', 'StreamToS3-5-2017-10-08-12-58-31-13605e90-ed18-4a69-a06b-7e03fbec8c52', 'StreamToS3-5-2017-10-09-01-42-48-15818002-644a-423f-bd06-f609f28f2eee', 'StreamToS3-5-2017-10-09-01-07-27-0319d02c-25d1-4477-b85b-e5cdcc208f1a', 'StreamToS3-5-2017-10-09-01-47-06-4a3068cd-eae3-4699-baa8-f1ecb609ec62', 'StreamToS3-5-2017-10-09-01-25-07-fec47b21-9582-4aa3-b3cf-c9af6ccc975a', 'StreamToS3-5-2017-10-09-01-45-12-3d6957aa-7974-44e9-941f-30547b420196', 'StreamToS3-5-2017-10-09-01-47-43-b4487253-59c6-4d79-98aa-662c3bce5b0a', 'StreamToS3-5-2017-10-09-01-37-09-cf1e0a2c-d0f1-4515-b275-195936a35703', 'StreamToS3-5-2017-10-09-01-47-42-491ad5a3-3fcf-4d9e-9c93-2fe062f1247f', 'StreamToS3-5-2017-10-09-01-32-47-f5331595-49ea-49b6-ad4d-5a4ff60e26ea', 'StreamToS3-5-2017-10-09-01-12-24-0c5fac91-63af-4878-bd2d-71df4f0c96f7', 'StreamToS3-5-2017-10-09-01-35-11-f3d2d572-44ba-4eb6-a918-4ece9b1d3519', 'StreamToS3-5-2017-10-09-01-09-56-37eb1e47-dd33-40b5-ac36-2196bbbe13f3', 'StreamToS3-5-2017-10-09-01-12-46-2b1c1ea9-4e29-488f-87c5-671d9a2d4124', 'StreamToS3-5-2017-10-09-01-27-02-2e5445a9-62ef-47f8-8b88-7097dbd61f11', 'StreamToS3-5-2017-10-09-01-06-59-08fa568b-4d1d-40f2-9006-de790f580628', 'StreamToS3-5-2017-10-09-01-57-54-0349c2ef-dc9c-49ac-862f-051698b9549d', 'StreamToS3-5-2017-10-09-01-57-47-198866b6-ab9b-4183-9baf-a6bf1bd340c7', 'StreamToS3-5-2017-10-09-01-22-01-89dc8c65-3498-48ba-ac9a-fb73e5d9b763', 'StreamToS3-5-2017-10-09-01-11-59-159a2e47-f9d8-4f4c-ac3d-bec07fbd6557', 'StreamToS3-5-2017-10-09-01-37-40-95ce9bc9-90a7-4d52-aad5-9add8f513d9e', 'StreamToS3-5-2017-10-09-01-42-09-a25cbad5-f194-4cda-a662-3bd61d200f01', 'StreamToS3-5-2017-10-09-01-02-44-3dedbf23-95e0-4b73-9171-e590153f8998', 'StreamToS3-5-2017-10-09-01-20-04-bf468cb5-87e0-47b0-b3fd-a60e1164487c', 'StreamToS3-5-2017-10-09-01-42-29-49a665f7-cfb2-4d42-b737-83d47d603a0d', 'StreamToS3-5-2017-10-09-01-37-48-e08e0274-cba0-4547-ba4e-e6ed95ae359c', 'StreamToS3-5-2017-10-09-01-04-56-2d1614bc-c8bc-457c-9466-96a7ab7e86bf', 'StreamToS3-5-2017-10-09-01-07-46-038381b2-e4c4-4ac5-a7ac-4fe15b510000', 'StreamToS3-5-2017-10-09-01-22-46-31bef33d-9313-4db2-a533-458e5773ab95', 'StreamToS3-5-2017-10-09-01-22-30-969d0d8a-9876-47de-9bd0-eadfd6542cc9', 'StreamToS3-5-2017-10-09-01-52-11-e9febca5-4063-4c64-ae27-c5c6bda80e58', 'StreamToS3-5-2017-10-09-01-17-01-8fa9366d-0c33-4ca1-9da3-a89f91d34a1a', 'StreamToS3-5-2017-10-09-01-32-07-693f5c14-8fc3-4069-a0a4-69ee656a6cc4', 'StreamToS3-5-2017-10-09-01-52-49-c21fe0a9-3d22-401f-9424-6d425fdeab17', 'StreamToS3-5-2017-10-09-01-57-12-2d9f1579-2d5f-4c37-b1ab-b84a8af294bf', 'StreamToS3-5-2017-10-09-01-17-46-b07ea93d-7ed7-4194-abde-682a8482dedb', 'StreamToS3-5-2017-10-09-01-52-46-c15af4ae-8e75-4d85-bc5e-57094005e046', 'StreamToS3-5-2017-10-09-01-27-47-e92b6c81-552b-4c0b-94c0-a52597e57542', 'StreamToS3-5-2017-10-09-01-17-28-dbecef7e-7e40-42be-ba13-18407cc87ffe', 'StreamToS3-5-2017-10-09-01-55-17-57ba3625-340c-492f-a416-4344217cf298', 'StreamToS3-5-2017-10-09-01-40-12-aa6fc4e9-7595-4bfd-994a-304e4eb6edfe', 'StreamToS3-5-2017-10-09-01-27-32-8c43e7ba-7045-4907-b776-f9ef1f3150b8', 'StreamToS3-5-2017-10-09-01-50-15-6115e561-c217-4ee9-a556-4d07a6feb15d', 'StreamToS3-5-2017-10-09-01-01-54-58a7111f-767d-47c9-a52b-397b12f91408', 'StreamToS3-5-2017-10-09-01-30-05-3770421a-10ec-415e-b86e-00ff38a1fe65', 'StreamToS3-5-2017-10-09-01-32-35-783d715b-5337-4aaa-a1b5-15cbb13a35bb', 'StreamToS3-5-2017-10-09-01-15-00-949912d8-f99b-4d36-b6e5-89f5cc9cdf08', 'StreamToS3-5-2017-10-09-01-02-26-9c6c496d-44f7-485a-9201-ccd9067c62b8']\n"
     ]
    }
   ],
   "source": [
    "folders = ['date_10_05_12', 'date_10_06_02', 'date_10_08_12', 'date_10_09_01']\n",
    "files = []\n",
    "for folder in folders:\n",
    "    directory = '/Users/smitaupadhyay/Desktop/data_science01/repogit/247sports-football-sites-leopards/data/' + folder\n",
    "    for file in os.listdir(directory):\n",
    "        files.append(file)\n",
    "print(files)\n"
   ]
  },
  {
   "cell_type": "code",
   "execution_count": 17,
   "metadata": {},
   "outputs": [],
   "source": [
    "def printme( str ):\n",
    "   \"This prints a passed string into this function\"\n",
    "   print(str)\n",
    "   return;"
   ]
  },
  {
   "cell_type": "code",
   "execution_count": 19,
   "metadata": {},
   "outputs": [
    {
     "name": "stdout",
     "output_type": "stream",
     "text": [
      "hi hello\n"
     ]
    }
   ],
   "source": [
    "printme(\"hi hello\")"
   ]
  },
  {
   "cell_type": "code",
   "execution_count": null,
   "metadata": {},
   "outputs": [],
   "source": []
  },
  {
   "cell_type": "code",
   "execution_count": null,
   "metadata": {},
   "outputs": [],
   "source": []
  }
 ],
 "metadata": {
  "kernelspec": {
   "display_name": "Python 3",
   "language": "python",
   "name": "python3"
  },
  "language_info": {
   "codemirror_mode": {
    "name": "ipython",
    "version": 3
   },
   "file_extension": ".py",
   "mimetype": "text/x-python",
   "name": "python",
   "nbconvert_exporter": "python",
   "pygments_lexer": "ipython3",
   "version": "3.6.3"
  }
 },
 "nbformat": 4,
 "nbformat_minor": 2
}

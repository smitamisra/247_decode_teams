{
 "cells": [
  {
   "cell_type": "code",
   "execution_count": 30,
   "metadata": {},
   "outputs": [],
   "source": [
    "import re\n",
    "import pandas as pd\n",
    "import json\n",
    "import os"
   ]
  },
  {
   "cell_type": "code",
   "execution_count": 83,
   "metadata": {
    "scrolled": false
   },
   "outputs": [],
   "source": [
    "test = open(\"00/StreamToS3-5-2017-10-08-00-00-54-70e24f3e-05e2-4e91-a259-f31c9ce0e956\")\n",
    "test_read = test.read()\n",
    "#test_read"
   ]
  },
  {
   "cell_type": "code",
   "execution_count": 84,
   "metadata": {},
   "outputs": [],
   "source": [
    "split_by = re.sub('}{','},{',test_read)\n",
    "#split_by\n",
    "split_json = \"[\"+split_by+\"]\""
   ]
  },
  {
   "cell_type": "code",
   "execution_count": 85,
   "metadata": {},
   "outputs": [],
   "source": [
    "json_format = json.loads(split_json)\n",
    "#json_format"
   ]
  },
  {
   "cell_type": "code",
   "execution_count": 86,
   "metadata": {},
   "outputs": [],
   "source": [
    "Stream_2017_10_08_00 = pd.DataFrame(json_format)\n",
    "#Stream_2017_10_08_00 = Stream_2017_10_08_00[Stream_2017_10_08_00.referrer.str.contains(\"(.247sports.com)\",na=False)]\n",
    "#Stream_2017_10_08_00.siteKey.unique()"
   ]
  },
  {
   "cell_type": "code",
   "execution_count": 82,
   "metadata": {},
   "outputs": [
    {
     "data": {
      "text/html": [
       "<div>\n",
       "<style scoped>\n",
       "    .dataframe tbody tr th:only-of-type {\n",
       "        vertical-align: middle;\n",
       "    }\n",
       "\n",
       "    .dataframe tbody tr th {\n",
       "        vertical-align: top;\n",
       "    }\n",
       "\n",
       "    .dataframe thead th {\n",
       "        text-align: right;\n",
       "    }\n",
       "</style>\n",
       "<table border=\"1\" class=\"dataframe\">\n",
       "  <thead>\n",
       "    <tr style=\"text-align: right;\">\n",
       "      <th></th>\n",
       "      <th>authorKey</th>\n",
       "      <th>contentKey</th>\n",
       "      <th>pathRoot</th>\n",
       "      <th>publishedDate</th>\n",
       "      <th>referrer</th>\n",
       "      <th>siteKey</th>\n",
       "      <th>timeStamp</th>\n",
       "      <th>userAgent</th>\n",
       "      <th>userId</th>\n",
       "      <th>userStatus</th>\n",
       "    </tr>\n",
       "  </thead>\n",
       "  <tbody>\n",
       "    <tr>\n",
       "      <th>124</th>\n",
       "      <td>1.000669e+09</td>\n",
       "      <td>3.775400e+09</td>\n",
       "      <td>GALLERY</td>\n",
       "      <td>10/5/2017 11:15:58 AM</td>\n",
       "      <td>https://bal.247sports.com/Gallery/ATS-Projecti...</td>\n",
       "      <td>23855104</td>\n",
       "      <td>Sun, 08 Oct 2017 00:01:08 GMT</td>\n",
       "      <td>Mozilla/5.0 (iPhone; CPU iPhone OS 10_3_3 like...</td>\n",
       "      <td>6a42ff28-2a63-4aa0-a83c-5eeb6b390731</td>\n",
       "      <td>Guest</td>\n",
       "    </tr>\n",
       "  </tbody>\n",
       "</table>\n",
       "</div>"
      ],
      "text/plain": [
       "        authorKey    contentKey pathRoot          publishedDate  \\\n",
       "124  1.000669e+09  3.775400e+09  GALLERY  10/5/2017 11:15:58 AM   \n",
       "\n",
       "                                              referrer   siteKey  \\\n",
       "124  https://bal.247sports.com/Gallery/ATS-Projecti...  23855104   \n",
       "\n",
       "                         timeStamp  \\\n",
       "124  Sun, 08 Oct 2017 00:01:08 GMT   \n",
       "\n",
       "                                             userAgent  \\\n",
       "124  Mozilla/5.0 (iPhone; CPU iPhone OS 10_3_3 like...   \n",
       "\n",
       "                                   userId userStatus  \n",
       "124  6a42ff28-2a63-4aa0-a83c-5eeb6b390731      Guest  "
      ]
     },
     "execution_count": 82,
     "metadata": {},
     "output_type": "execute_result"
    }
   ],
   "source": [
    "#Stream_2017_10_08_00[Stream_2017_10_08_00.siteKey==23855104]\n"
   ]
  },
  {
   "cell_type": "code",
   "execution_count": 87,
   "metadata": {},
   "outputs": [],
   "source": [
    "#Stream_2017_10_08_00['siteKey'] = str(Stream_2017_10_08_00['siteKey'])"
   ]
  },
  {
   "cell_type": "code",
   "execution_count": 115,
   "metadata": {},
   "outputs": [],
   "source": [
    "Seahawks = Stream_2017_10_08_00['referrer'].filter(regex=r'sea*')"
   ]
  },
  {
   "cell_type": "code",
   "execution_count": 116,
   "metadata": {},
   "outputs": [
    {
     "data": {
      "text/plain": [
       "Series([], Name: referrer, dtype: object)"
      ]
     },
     "execution_count": 116,
     "metadata": {},
     "output_type": "execute_result"
    }
   ],
   "source": [
    "Seahawks"
   ]
  },
  {
   "cell_type": "code",
   "execution_count": 70,
   "metadata": {},
   "outputs": [
    {
     "name": "stdout",
     "output_type": "stream",
     "text": [
      "Submitting guess for 32 teams\n",
      "Submitting guess!\n",
      "{\"statusCode\": 200, \"body\": \"You got 2 right!\", \"headers\": {\"Content-Type\": \"text/plain\"}}\n"
     ]
    }
   ],
   "source": [
    "import requests\n",
    "import getpass\n",
    "\n",
    "BASE_URL = \"https://9n52ntmq97.execute-api.us-east-1.amazonaws.com/prod\"\n",
    "REQUEST_URL = \"{base_url}/guess\".format(base_url=BASE_URL)\n",
    "WRONG = {\n",
    "    \"Arizona Cardinals\": 1,\n",
    "    \"Atlanta Falcons\": 2,\n",
    "    \"Baltimore Ravens\": 3,\n",
    "    \"Buffalo Bills\": 6,\n",
    "    \"Carolina Panthers\": 7,\n",
    "    \"Chicago Bears\": 8,\n",
    "    \"Cincinnati Bengals\": 9,\n",
    "    \"Cleveland Browns\": 10,\n",
    "    \"Dallas Cowboys\": 12,\n",
    "    \"Denver Broncos\": 13,\n",
    "    \"Detroit Lions\": 14,\n",
    "    \"Green Bay Packers\": 16,\n",
    "    \"Houston Texans\": 17,\n",
    "    \"Indianapolis Colts\": 18,\n",
    "    \"Jacksonville Jaguars\": 19,\n",
    "    \"Kansas City Chiefs\": 21,\n",
    "    \"Los Angeles Chargers\": 22,\n",
    "    \"Los Angeles Rams\": 23,\n",
    "    \"Miami Dolphins\": 24,\n",
    "    \"Minnesota Vikings\": 26,\n",
    "    \"New England Patriots\": 27,\n",
    "    \"New Orleans Saints\": 28,\n",
    "    \"New York Giants\": 29,\n",
    "    \"New York Jets\": 30,\n",
    "    \"Oakland Raiders\": 25100288,\n",
    "    \"Philadelphia Eagles\": 34,\n",
    "    \"Pittsburgh Steelers\": 35,\n",
    "    \"San Francisco 49ers\": 36,\n",
    "    \"Seattle Seahawks\": 2490368,\n",
    "    \"Tampa Bay Buccaneers\": 40,\n",
    "    \"Tennessee Titans\": 41,\n",
    "    \"Washington Redskins\": 45,\n",
    "}\n",
    "\n",
    "def submit_request(guess, username):\n",
    "    print(\"Submitting guess!\")\n",
    "    resp = requests.post(REQUEST_URL, json={\n",
    "        \"results\": guess,\n",
    "        \"username\": username\n",
    "    })\n",
    "    print(resp.text)\n",
    "\n",
    "if __name__ == '__main__':\n",
    "    print(\"Submitting guess for {} teams\".format(len(WRONG)))\n",
    "    submit_request(WRONG, getpass.getuser())"
   ]
  },
  {
   "cell_type": "code",
   "execution_count": null,
   "metadata": {},
   "outputs": [],
   "source": []
  }
 ],
 "metadata": {
  "kernelspec": {
   "display_name": "Python 3",
   "language": "python",
   "name": "python3"
  },
  "language_info": {
   "codemirror_mode": {
    "name": "ipython",
    "version": 3
   },
   "file_extension": ".py",
   "mimetype": "text/x-python",
   "name": "python",
   "nbconvert_exporter": "python",
   "pygments_lexer": "ipython3",
   "version": "3.6.4"
  }
 },
 "nbformat": 4,
 "nbformat_minor": 2
}
